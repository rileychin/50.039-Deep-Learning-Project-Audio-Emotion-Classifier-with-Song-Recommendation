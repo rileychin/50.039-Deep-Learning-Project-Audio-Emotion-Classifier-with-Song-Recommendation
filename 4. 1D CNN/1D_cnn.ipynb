{
 "cells": [
  {
   "cell_type": "code",
   "execution_count": 1,
   "id": "6e150c92",
   "metadata": {
    "execution": {
     "iopub.execute_input": "2022-03-24T10:24:16.878894Z",
     "iopub.status.busy": "2022-03-24T10:24:16.877410Z",
     "iopub.status.idle": "2022-03-24T10:24:27.971017Z",
     "shell.execute_reply": "2022-03-24T10:24:27.971462Z",
     "shell.execute_reply.started": "2022-03-24T09:33:44.295909Z"
    },
    "papermill": {
     "duration": 11.128807,
     "end_time": "2022-03-24T10:24:27.971743",
     "exception": false,
     "start_time": "2022-03-24T10:24:16.842936",
     "status": "completed"
    },
    "tags": []
   },
   "outputs": [
    {
     "name": "stdout",
     "output_type": "stream",
     "text": [
      "Collecting np_utils\r\n",
      "  Downloading np_utils-0.6.0.tar.gz (61 kB)\r\n",
      "     |████████████████████████████████| 61 kB 344 kB/s            \r\n",
      "\u001b[?25h  Preparing metadata (setup.py) ... \u001b[?25l-\b \bdone\r\n",
      "\u001b[?25hRequirement already satisfied: numpy>=1.0 in /opt/conda/lib/python3.7/site-packages (from np_utils) (1.20.3)\r\n",
      "Building wheels for collected packages: np-utils\r\n",
      "  Building wheel for np-utils (setup.py) ... \u001b[?25l-\b \b\\\b \bdone\r\n",
      "\u001b[?25h  Created wheel for np-utils: filename=np_utils-0.6.0-py3-none-any.whl size=56459 sha256=815c841db1f39a501b9d189cc6812ade84732813f0938fbeb321b90d6c504298\r\n",
      "  Stored in directory: /root/.cache/pip/wheels/d2/83/71/a781667865955ae7dc18e5a4038401deb56d96eb85d3a5f1c0\r\n",
      "Successfully built np-utils\r\n",
      "Installing collected packages: np-utils\r\n",
      "Successfully installed np-utils-0.6.0\r\n",
      "\u001b[33mWARNING: Running pip as the 'root' user can result in broken permissions and conflicting behaviour with the system package manager. It is recommended to use a virtual environment instead: https://pip.pypa.io/warnings/venv\u001b[0m\r\n"
     ]
    }
   ],
   "source": [
    "!pip install np_utils"
   ]
  },
  {
   "cell_type": "code",
   "execution_count": 2,
   "id": "0a751c53",
   "metadata": {
    "_cell_guid": "b1076dfc-b9ad-4769-8c92-a6c4dae69d19",
    "_uuid": "8f2839f25d086af736a60e9eeb907d3b93b6e0e5",
    "execution": {
     "iopub.execute_input": "2022-03-24T10:24:28.031964Z",
     "iopub.status.busy": "2022-03-24T10:24:28.029216Z",
     "iopub.status.idle": "2022-03-24T10:24:36.309694Z",
     "shell.execute_reply": "2022-03-24T10:24:36.308790Z",
     "shell.execute_reply.started": "2022-03-24T09:33:57.697483Z"
    },
    "papermill": {
     "duration": 8.312509,
     "end_time": "2022-03-24T10:24:36.309872",
     "exception": false,
     "start_time": "2022-03-24T10:24:27.997363",
     "status": "completed"
    },
    "tags": []
   },
   "outputs": [],
   "source": [
    "import pandas as pd\n",
    "import numpy as np\n",
    "\n",
    "import os\n",
    "import sys\n",
    "\n",
    "# librosa is a Python library for analyzing audio and music. It can be used to extract the data from the audio files we will see it later.\n",
    "import librosa\n",
    "import librosa.display\n",
    "import seaborn as sns\n",
    "import matplotlib.pyplot as plt\n",
    "\n",
    "from sklearn.preprocessing import StandardScaler, OneHotEncoder\n",
    "from sklearn.metrics import confusion_matrix, classification_report\n",
    "from sklearn.model_selection import train_test_split\n",
    "\n",
    "# to play the audio files\n",
    "from IPython.display import Audio\n",
    "\n",
    "import keras\n",
    "from tensorflow.keras.callbacks import ReduceLROnPlateau\n",
    "from tensorflow.keras.models import Sequential\n",
    "from tensorflow.keras.layers import Dense, Conv1D, MaxPooling1D, Flatten, Dropout, BatchNormalization\n",
    "from tensorflow.keras.utils import to_categorical\n",
    "import np_utils\n",
    "from tensorflow.keras.callbacks import ModelCheckpoint\n",
    "\n",
    "import warnings\n",
    "if not sys.warnoptions:\n",
    "    warnings.simplefilter(\"ignore\")\n",
    "warnings.filterwarnings(\"ignore\", category=DeprecationWarning) "
   ]
  },
  {
   "cell_type": "code",
   "execution_count": 3,
   "id": "046ae9bf",
   "metadata": {
    "execution": {
     "iopub.execute_input": "2022-03-24T10:24:36.361553Z",
     "iopub.status.busy": "2022-03-24T10:24:36.360861Z",
     "iopub.status.idle": "2022-03-24T10:24:36.365295Z",
     "shell.execute_reply": "2022-03-24T10:24:36.364886Z",
     "shell.execute_reply.started": "2022-03-24T09:34:01.414438Z"
    },
    "papermill": {
     "duration": 0.03149,
     "end_time": "2022-03-24T10:24:36.365404",
     "exception": false,
     "start_time": "2022-03-24T10:24:36.333914",
     "status": "completed"
    },
    "tags": []
   },
   "outputs": [],
   "source": [
    "from tqdm import tqdm, notebook"
   ]
  },
  {
   "cell_type": "code",
   "execution_count": 4,
   "id": "d6750163",
   "metadata": {
    "execution": {
     "iopub.execute_input": "2022-03-24T10:24:36.415157Z",
     "iopub.status.busy": "2022-03-24T10:24:36.414514Z",
     "iopub.status.idle": "2022-03-24T10:24:36.416772Z",
     "shell.execute_reply": "2022-03-24T10:24:36.417217Z",
     "shell.execute_reply.started": "2022-03-24T09:34:03.590919Z"
    },
    "papermill": {
     "duration": 0.028956,
     "end_time": "2022-03-24T10:24:36.417334",
     "exception": false,
     "start_time": "2022-03-24T10:24:36.388378",
     "status": "completed"
    },
    "tags": []
   },
   "outputs": [],
   "source": [
    "Crema = [\"/kaggle/input/emotion-detection-dataset/angry/\",\"/kaggle/input/emotion-detection-dataset/disgusting/\",\"/kaggle/input/emotion-detection-dataset/fear/\",\"/kaggle/input/emotion-detection-dataset/happy/\",\"/kaggle/input/emotion-detection-dataset/neutral/\",\"/kaggle/input/emotion-detection-dataset/sad/\"]"
   ]
  },
  {
   "cell_type": "code",
   "execution_count": 5,
   "id": "3a625335",
   "metadata": {
    "execution": {
     "iopub.execute_input": "2022-03-24T10:24:36.472321Z",
     "iopub.status.busy": "2022-03-24T10:24:36.467489Z",
     "iopub.status.idle": "2022-03-24T10:24:37.910507Z",
     "shell.execute_reply": "2022-03-24T10:24:37.911033Z",
     "shell.execute_reply.started": "2022-03-24T09:34:05.97765Z"
    },
    "papermill": {
     "duration": 1.470829,
     "end_time": "2022-03-24T10:24:37.911192",
     "exception": false,
     "start_time": "2022-03-24T10:24:36.440363",
     "status": "completed"
    },
    "tags": []
   },
   "outputs": [
    {
     "name": "stdout",
     "output_type": "stream",
     "text": [
      "not gonna append\n",
      "['desktop.ini']\n",
      "not gonna append\n",
      "['desktop.ini']\n",
      "not gonna append\n",
      "['desktop.ini']\n",
      "not gonna append\n",
      "['desktop.ini']\n",
      "not gonna append\n",
      "['desktop.ini']\n"
     ]
    },
    {
     "data": {
      "text/html": [
       "<div>\n",
       "<style scoped>\n",
       "    .dataframe tbody tr th:only-of-type {\n",
       "        vertical-align: middle;\n",
       "    }\n",
       "\n",
       "    .dataframe tbody tr th {\n",
       "        vertical-align: top;\n",
       "    }\n",
       "\n",
       "    .dataframe thead th {\n",
       "        text-align: right;\n",
       "    }\n",
       "</style>\n",
       "<table border=\"1\" class=\"dataframe\">\n",
       "  <thead>\n",
       "    <tr style=\"text-align: right;\">\n",
       "      <th></th>\n",
       "      <th>Emotions</th>\n",
       "      <th>Path</th>\n",
       "    </tr>\n",
       "  </thead>\n",
       "  <tbody>\n",
       "    <tr>\n",
       "      <th>0</th>\n",
       "      <td>angry</td>\n",
       "      <td>/kaggle/input/emotion-detection-dataset/angry/...</td>\n",
       "    </tr>\n",
       "    <tr>\n",
       "      <th>1</th>\n",
       "      <td>angry</td>\n",
       "      <td>/kaggle/input/emotion-detection-dataset/angry/...</td>\n",
       "    </tr>\n",
       "    <tr>\n",
       "      <th>2</th>\n",
       "      <td>angry</td>\n",
       "      <td>/kaggle/input/emotion-detection-dataset/angry/...</td>\n",
       "    </tr>\n",
       "    <tr>\n",
       "      <th>3</th>\n",
       "      <td>angry</td>\n",
       "      <td>/kaggle/input/emotion-detection-dataset/angry/...</td>\n",
       "    </tr>\n",
       "    <tr>\n",
       "      <th>4</th>\n",
       "      <td>angry</td>\n",
       "      <td>/kaggle/input/emotion-detection-dataset/angry/...</td>\n",
       "    </tr>\n",
       "  </tbody>\n",
       "</table>\n",
       "</div>"
      ],
      "text/plain": [
       "  Emotions                                               Path\n",
       "0    angry  /kaggle/input/emotion-detection-dataset/angry/...\n",
       "1    angry  /kaggle/input/emotion-detection-dataset/angry/...\n",
       "2    angry  /kaggle/input/emotion-detection-dataset/angry/...\n",
       "3    angry  /kaggle/input/emotion-detection-dataset/angry/...\n",
       "4    angry  /kaggle/input/emotion-detection-dataset/angry/..."
      ]
     },
     "execution_count": 5,
     "metadata": {},
     "output_type": "execute_result"
    }
   ],
   "source": [
    "file_emotion = []\n",
    "file_path = []\n",
    "for i in Crema:\n",
    "    crema_directory_list = os.listdir(i)\n",
    "    for file in crema_directory_list:\n",
    "        if file != 'desktop.ini':\n",
    "            # storing file paths\n",
    "            file_path.append(i +file)\n",
    "        else:\n",
    "            print('not gonna append')\n",
    "        # storing file emotions\n",
    "        part=file.split('_')\n",
    "        try:\n",
    "            if part[2] == 'SAD':\n",
    "                file_emotion.append('sad')\n",
    "            elif part[2] == 'ANG':\n",
    "                file_emotion.append('angry')\n",
    "            elif part[2] == 'DIS':\n",
    "                file_emotion.append('disgust')\n",
    "            elif part[2] == 'FEA':\n",
    "                file_emotion.append('fear')\n",
    "            elif part[2] == 'HAP':\n",
    "                file_emotion.append('happy')\n",
    "            elif part[2] == 'NEU':\n",
    "                file_emotion.append('neutral')\n",
    "            else:\n",
    "                file_emotion.append('Unknown')\n",
    "        except:\n",
    "            print(part)\n",
    "\n",
    "# dataframe for emotion of files\n",
    "emotion_df = pd.DataFrame(file_emotion, columns=['Emotions'])\n",
    "\n",
    "# dataframe for path of files.\n",
    "path_df = pd.DataFrame(file_path, columns=['Path'])\n",
    "Crema_df = pd.concat([emotion_df, path_df], axis=1)\n",
    "Crema_df.head()"
   ]
  },
  {
   "cell_type": "code",
   "execution_count": 6,
   "id": "513d756e",
   "metadata": {
    "execution": {
     "iopub.execute_input": "2022-03-24T10:24:37.966957Z",
     "iopub.status.busy": "2022-03-24T10:24:37.966247Z",
     "iopub.status.idle": "2022-03-24T10:24:38.625428Z",
     "shell.execute_reply": "2022-03-24T10:24:38.625004Z",
     "shell.execute_reply.started": "2022-03-24T09:34:14.480122Z"
    },
    "papermill": {
     "duration": 0.68812,
     "end_time": "2022-03-24T10:24:38.625549",
     "exception": false,
     "start_time": "2022-03-24T10:24:37.937429",
     "status": "completed"
    },
    "tags": []
   },
   "outputs": [
    {
     "name": "stdout",
     "output_type": "stream",
     "text": [
      "__notebook__.ipynb\r\n"
     ]
    }
   ],
   "source": [
    "ls"
   ]
  },
  {
   "cell_type": "code",
   "execution_count": 7,
   "id": "0a3c0822",
   "metadata": {
    "execution": {
     "iopub.execute_input": "2022-03-24T10:24:38.681987Z",
     "iopub.status.busy": "2022-03-24T10:24:38.678487Z",
     "iopub.status.idle": "2022-03-24T10:24:38.716892Z",
     "shell.execute_reply": "2022-03-24T10:24:38.717300Z",
     "shell.execute_reply.started": "2022-03-24T09:34:09.974778Z"
    },
    "papermill": {
     "duration": 0.066517,
     "end_time": "2022-03-24T10:24:38.717416",
     "exception": false,
     "start_time": "2022-03-24T10:24:38.650899",
     "status": "completed"
    },
    "tags": []
   },
   "outputs": [
    {
     "data": {
      "text/html": [
       "<div>\n",
       "<style scoped>\n",
       "    .dataframe tbody tr th:only-of-type {\n",
       "        vertical-align: middle;\n",
       "    }\n",
       "\n",
       "    .dataframe tbody tr th {\n",
       "        vertical-align: top;\n",
       "    }\n",
       "\n",
       "    .dataframe thead th {\n",
       "        text-align: right;\n",
       "    }\n",
       "</style>\n",
       "<table border=\"1\" class=\"dataframe\">\n",
       "  <thead>\n",
       "    <tr style=\"text-align: right;\">\n",
       "      <th></th>\n",
       "      <th>Emotions</th>\n",
       "      <th>Path</th>\n",
       "    </tr>\n",
       "  </thead>\n",
       "  <tbody>\n",
       "    <tr>\n",
       "      <th>0</th>\n",
       "      <td>angry</td>\n",
       "      <td>/kaggle/input/emotion-detection-dataset/angry/...</td>\n",
       "    </tr>\n",
       "    <tr>\n",
       "      <th>1</th>\n",
       "      <td>angry</td>\n",
       "      <td>/kaggle/input/emotion-detection-dataset/angry/...</td>\n",
       "    </tr>\n",
       "    <tr>\n",
       "      <th>2</th>\n",
       "      <td>angry</td>\n",
       "      <td>/kaggle/input/emotion-detection-dataset/angry/...</td>\n",
       "    </tr>\n",
       "    <tr>\n",
       "      <th>3</th>\n",
       "      <td>angry</td>\n",
       "      <td>/kaggle/input/emotion-detection-dataset/angry/...</td>\n",
       "    </tr>\n",
       "    <tr>\n",
       "      <th>4</th>\n",
       "      <td>angry</td>\n",
       "      <td>/kaggle/input/emotion-detection-dataset/angry/...</td>\n",
       "    </tr>\n",
       "  </tbody>\n",
       "</table>\n",
       "</div>"
      ],
      "text/plain": [
       "  Emotions                                               Path\n",
       "0    angry  /kaggle/input/emotion-detection-dataset/angry/...\n",
       "1    angry  /kaggle/input/emotion-detection-dataset/angry/...\n",
       "2    angry  /kaggle/input/emotion-detection-dataset/angry/...\n",
       "3    angry  /kaggle/input/emotion-detection-dataset/angry/...\n",
       "4    angry  /kaggle/input/emotion-detection-dataset/angry/..."
      ]
     },
     "execution_count": 7,
     "metadata": {},
     "output_type": "execute_result"
    }
   ],
   "source": [
    "# creating Dataframe using all the 4 dataframes we created so far.\n",
    "data_path = pd.concat([Crema_df], axis = 0)\n",
    "data_path.to_csv(\"data_path.csv\",index=False)\n",
    "data_path.head()"
   ]
  },
  {
   "cell_type": "code",
   "execution_count": null,
   "id": "4853d51f",
   "metadata": {
    "papermill": {
     "duration": 0.02533,
     "end_time": "2022-03-24T10:24:38.768354",
     "exception": false,
     "start_time": "2022-03-24T10:24:38.743024",
     "status": "completed"
    },
    "tags": []
   },
   "outputs": [],
   "source": []
  },
  {
   "cell_type": "code",
   "execution_count": 8,
   "id": "be6e4121",
   "metadata": {
    "execution": {
     "iopub.execute_input": "2022-03-24T10:24:38.831124Z",
     "iopub.status.busy": "2022-03-24T10:24:38.830351Z",
     "iopub.status.idle": "2022-03-24T10:24:39.029675Z",
     "shell.execute_reply": "2022-03-24T10:24:39.029279Z",
     "shell.execute_reply.started": "2022-03-24T09:34:21.88374Z"
    },
    "papermill": {
     "duration": 0.2341,
     "end_time": "2022-03-24T10:24:39.029812",
     "exception": false,
     "start_time": "2022-03-24T10:24:38.795712",
     "status": "completed"
    },
    "tags": []
   },
   "outputs": [
    {
     "data": {
      "image/png": "[encoded data removed]",
      "text/plain": [
       "<Figure size 432x288 with 1 Axes>"
      ]
     },
     "metadata": {
      "needs_background": "light"
     },
     "output_type": "display_data"
    }
   ],
   "source": [
    "plt.title('Count of Emotions', size=16)\n",
    "sns.countplot(data_path.Emotions)\n",
    "plt.ylabel('Count', size=12)\n",
    "plt.xlabel('Emotions', size=12)\n",
    "sns.despine(top=True, right=True, left=False, bottom=False)\n",
    "plt.show()"
   ]
  },
  {
   "cell_type": "code",
   "execution_count": 9,
   "id": "26e80cb7",
   "metadata": {
    "execution": {
     "iopub.execute_input": "2022-03-24T10:24:39.089449Z",
     "iopub.status.busy": "2022-03-24T10:24:39.088635Z",
     "iopub.status.idle": "2022-03-24T10:24:39.093688Z",
     "shell.execute_reply": "2022-03-24T10:24:39.093269Z",
     "shell.execute_reply.started": "2022-03-24T09:29:16.779154Z"
    },
    "papermill": {
     "duration": 0.037625,
     "end_time": "2022-03-24T10:24:39.093815",
     "exception": false,
     "start_time": "2022-03-24T10:24:39.056190",
     "status": "completed"
    },
    "tags": []
   },
   "outputs": [
    {
     "data": {
      "text/plain": [
       "angry      1087\n",
       "disgust    1087\n",
       "fear       1087\n",
       "happy      1087\n",
       "neutral    1087\n",
       "sad        1087\n",
       "Name: Emotions, dtype: int64"
      ]
     },
     "execution_count": 9,
     "metadata": {},
     "output_type": "execute_result"
    }
   ],
   "source": [
    "data_path['Emotions'].value_counts()"
   ]
  },
  {
   "cell_type": "code",
   "execution_count": 10,
   "id": "4f5161be",
   "metadata": {
    "execution": {
     "iopub.execute_input": "2022-03-24T10:24:39.157387Z",
     "iopub.status.busy": "2022-03-24T10:24:39.156753Z",
     "iopub.status.idle": "2022-03-24T10:24:39.958592Z",
     "shell.execute_reply": "2022-03-24T10:24:39.957482Z",
     "shell.execute_reply.started": "2022-03-24T09:34:24.983496Z"
    },
    "papermill": {
     "duration": 0.837934,
     "end_time": "2022-03-24T10:24:39.958767",
     "exception": false,
     "start_time": "2022-03-24T10:24:39.120833",
     "status": "completed"
    },
    "tags": []
   },
   "outputs": [],
   "source": [
    "def noise(data):\n",
    "    noise_amp = 0.035*np.random.uniform()*np.amax(data)\n",
    "    data = data + noise_amp*np.random.normal(size=data.shape[0])\n",
    "    return data\n",
    "\n",
    "def stretch(data, rate=0.8):\n",
    "    return librosa.effects.time_stretch(data, rate)\n",
    "\n",
    "def shift(data):\n",
    "    shift_range = int(np.random.uniform(low=-5, high = 5)*1000)\n",
    "    return np.roll(data, shift_range)\n",
    "\n",
    "def pitch(data, sampling_rate, pitch_factor=0.7):\n",
    "    return librosa.effects.pitch_shift(data, sampling_rate, pitch_factor)\n",
    "\n",
    "# taking any example and checking for techniques.\n",
    "path = np.array(data_path.Path)[1]\n",
    "data, sample_rate = librosa.load(path)"
   ]
  },
  {
   "cell_type": "code",
   "execution_count": 11,
   "id": "54fde90b",
   "metadata": {
    "execution": {
     "iopub.execute_input": "2022-03-24T10:24:40.025072Z",
     "iopub.status.busy": "2022-03-24T10:24:40.024332Z",
     "iopub.status.idle": "2022-03-24T10:24:40.026378Z",
     "shell.execute_reply": "2022-03-24T10:24:40.026769Z",
     "shell.execute_reply.started": "2022-03-24T09:34:27.136283Z"
    },
    "papermill": {
     "duration": 0.039917,
     "end_time": "2022-03-24T10:24:40.026904",
     "exception": false,
     "start_time": "2022-03-24T10:24:39.986987",
     "status": "completed"
    },
    "tags": []
   },
   "outputs": [],
   "source": [
    "def extract_features(data):\n",
    "    # ZCR\n",
    "    result = np.array([])\n",
    "    zcr = np.mean(librosa.feature.zero_crossing_rate(y=data).T, axis=0)\n",
    "    result=np.hstack((result, zcr)) # stacking horizontally\n",
    "\n",
    "    # Chroma_stft\n",
    "    stft = np.abs(librosa.stft(data))\n",
    "    chroma_stft = np.mean(librosa.feature.chroma_stft(S=stft, sr=sample_rate).T, axis=0)\n",
    "    result = np.hstack((result, chroma_stft)) # stacking horizontally\n",
    "\n",
    "    # MFCC\n",
    "    mfcc = np.mean(librosa.feature.mfcc(y=data, sr=sample_rate).T, axis=0)\n",
    "    result = np.hstack((result, mfcc)) # stacking horizontally\n",
    "\n",
    "    # Root Mean Square Value\n",
    "    rms = np.mean(librosa.feature.rms(y=data).T, axis=0)\n",
    "    result = np.hstack((result, rms)) # stacking horizontally\n",
    "\n",
    "    # MelSpectogram\n",
    "    mel = np.mean(librosa.feature.melspectrogram(y=data, sr=sample_rate).T, axis=0)\n",
    "    result = np.hstack((result, mel)) # stacking horizontally\n",
    "    \n",
    "    return result\n",
    "\n",
    "def get_features(path):\n",
    "    # duration and offset are used to take care of the no audio in start and the ending of each audio files as seen above.\n",
    "    data, sample_rate = librosa.load(path, duration=2.5, offset=0.6)\n",
    "    \n",
    "    # without augmentation\n",
    "    res1 = extract_features(data)\n",
    "    result = np.array(res1)\n",
    "    \n",
    "    # data with noise\n",
    "    noise_data = noise(data)\n",
    "    res2 = extract_features(noise_data)\n",
    "    result = np.vstack((result, res2)) # stacking vertically\n",
    "    \n",
    "    # data with stretching and pitching\n",
    "    new_data = stretch(data)\n",
    "    data_stretch_pitch = pitch(new_data, sample_rate)\n",
    "    res3 = extract_features(data_stretch_pitch)\n",
    "    result = np.vstack((result, res3)) # stacking vertically\n",
    "    \n",
    "    return result"
   ]
  },
  {
   "cell_type": "code",
   "execution_count": 12,
   "id": "7a150be8",
   "metadata": {
    "execution": {
     "iopub.execute_input": "2022-03-24T10:24:40.086112Z",
     "iopub.status.busy": "2022-03-24T10:24:40.085399Z",
     "iopub.status.idle": "2022-03-24T11:01:47.456408Z",
     "shell.execute_reply": "2022-03-24T11:01:47.457273Z",
     "shell.execute_reply.started": "2022-03-24T09:34:31.466512Z"
    },
    "papermill": {
     "duration": 2227.40351,
     "end_time": "2022-03-24T11:01:47.457520",
     "exception": false,
     "start_time": "2022-03-24T10:24:40.054010",
     "status": "completed"
    },
    "tags": []
   },
   "outputs": [
    {
     "name": "stderr",
     "output_type": "stream",
     "text": [
      "6522it [37:07,  2.93it/s]\n"
     ]
    }
   ],
   "source": [
    "X, Y = [], []\n",
    "for path, emotion in tqdm(zip(data_path.Path, data_path.Emotions)):\n",
    "    feature = get_features(path)\n",
    "    for ele in feature:\n",
    "        X.append(ele)\n",
    "        # appending emotion 3 times as we have made 3 augmentation techniques on each audio file.\n",
    "        Y.append(emotion)"
   ]
  },
  {
   "cell_type": "code",
   "execution_count": 13,
   "id": "e9680ba2",
   "metadata": {
    "execution": {
     "iopub.execute_input": "2022-03-24T11:01:52.137577Z",
     "iopub.status.busy": "2022-03-24T11:01:52.101653Z",
     "iopub.status.idle": "2022-03-24T11:01:59.129470Z",
     "shell.execute_reply": "2022-03-24T11:01:59.129887Z"
    },
    "papermill": {
     "duration": 9.495253,
     "end_time": "2022-03-24T11:01:59.130098",
     "exception": false,
     "start_time": "2022-03-24T11:01:49.634845",
     "status": "completed"
    },
    "tags": []
   },
   "outputs": [
    {
     "data": {
      "text/html": [
       "<div>\n",
       "<style scoped>\n",
       "    .dataframe tbody tr th:only-of-type {\n",
       "        vertical-align: middle;\n",
       "    }\n",
       "\n",
       "    .dataframe tbody tr th {\n",
       "        vertical-align: top;\n",
       "    }\n",
       "\n",
       "    .dataframe thead th {\n",
       "        text-align: right;\n",
       "    }\n",
       "</style>\n",
       "<table border=\"1\" class=\"dataframe\">\n",
       "  <thead>\n",
       "    <tr style=\"text-align: right;\">\n",
       "      <th></th>\n",
       "      <th>0</th>\n",
       "      <th>1</th>\n",
       "      <th>2</th>\n",
       "      <th>3</th>\n",
       "      <th>4</th>\n",
       "      <th>5</th>\n",
       "      <th>6</th>\n",
       "      <th>7</th>\n",
       "      <th>8</th>\n",
       "      <th>9</th>\n",
       "      <th>...</th>\n",
       "      <th>153</th>\n",
       "      <th>154</th>\n",
       "      <th>155</th>\n",
       "      <th>156</th>\n",
       "      <th>157</th>\n",
       "      <th>158</th>\n",
       "      <th>159</th>\n",
       "      <th>160</th>\n",
       "      <th>161</th>\n",
       "      <th>labels</th>\n",
       "    </tr>\n",
       "  </thead>\n",
       "  <tbody>\n",
       "    <tr>\n",
       "      <th>0</th>\n",
       "      <td>0.110802</td>\n",
       "      <td>0.490795</td>\n",
       "      <td>0.505013</td>\n",
       "      <td>0.469710</td>\n",
       "      <td>0.561363</td>\n",
       "      <td>0.636531</td>\n",
       "      <td>0.563674</td>\n",
       "      <td>0.523280</td>\n",
       "      <td>0.558596</td>\n",
       "      <td>0.708839</td>\n",
       "      <td>...</td>\n",
       "      <td>2.711551e-07</td>\n",
       "      <td>2.506912e-07</td>\n",
       "      <td>2.352728e-07</td>\n",
       "      <td>2.230817e-07</td>\n",
       "      <td>2.134433e-07</td>\n",
       "      <td>2.060598e-07</td>\n",
       "      <td>2.004179e-07</td>\n",
       "      <td>1.965473e-07</td>\n",
       "      <td>1.941202e-07</td>\n",
       "      <td>angry</td>\n",
       "    </tr>\n",
       "    <tr>\n",
       "      <th>1</th>\n",
       "      <td>0.296992</td>\n",
       "      <td>0.662722</td>\n",
       "      <td>0.677393</td>\n",
       "      <td>0.686170</td>\n",
       "      <td>0.753687</td>\n",
       "      <td>0.803746</td>\n",
       "      <td>0.718685</td>\n",
       "      <td>0.617828</td>\n",
       "      <td>0.649817</td>\n",
       "      <td>0.754733</td>\n",
       "      <td>...</td>\n",
       "      <td>6.520792e-02</td>\n",
       "      <td>6.238075e-02</td>\n",
       "      <td>6.510437e-02</td>\n",
       "      <td>6.627490e-02</td>\n",
       "      <td>6.685612e-02</td>\n",
       "      <td>6.659891e-02</td>\n",
       "      <td>6.144643e-02</td>\n",
       "      <td>6.231309e-02</td>\n",
       "      <td>6.651492e-02</td>\n",
       "      <td>angry</td>\n",
       "    </tr>\n",
       "    <tr>\n",
       "      <th>2</th>\n",
       "      <td>0.120331</td>\n",
       "      <td>0.479905</td>\n",
       "      <td>0.506866</td>\n",
       "      <td>0.450984</td>\n",
       "      <td>0.512692</td>\n",
       "      <td>0.611210</td>\n",
       "      <td>0.601978</td>\n",
       "      <td>0.522084</td>\n",
       "      <td>0.528140</td>\n",
       "      <td>0.633301</td>\n",
       "      <td>...</td>\n",
       "      <td>2.646588e-07</td>\n",
       "      <td>2.364683e-07</td>\n",
       "      <td>2.173610e-07</td>\n",
       "      <td>2.030144e-07</td>\n",
       "      <td>1.919180e-07</td>\n",
       "      <td>1.830629e-07</td>\n",
       "      <td>1.614937e-07</td>\n",
       "      <td>1.041743e-07</td>\n",
       "      <td>5.117198e-08</td>\n",
       "      <td>angry</td>\n",
       "    </tr>\n",
       "    <tr>\n",
       "      <th>3</th>\n",
       "      <td>0.051547</td>\n",
       "      <td>0.551136</td>\n",
       "      <td>0.600135</td>\n",
       "      <td>0.714214</td>\n",
       "      <td>0.736494</td>\n",
       "      <td>0.618028</td>\n",
       "      <td>0.464627</td>\n",
       "      <td>0.518613</td>\n",
       "      <td>0.602296</td>\n",
       "      <td>0.640959</td>\n",
       "      <td>...</td>\n",
       "      <td>2.636145e-06</td>\n",
       "      <td>2.447441e-06</td>\n",
       "      <td>2.304417e-06</td>\n",
       "      <td>2.190688e-06</td>\n",
       "      <td>2.100426e-06</td>\n",
       "      <td>2.031119e-06</td>\n",
       "      <td>1.978037e-06</td>\n",
       "      <td>1.941582e-06</td>\n",
       "      <td>1.918666e-06</td>\n",
       "      <td>angry</td>\n",
       "    </tr>\n",
       "    <tr>\n",
       "      <th>4</th>\n",
       "      <td>0.216556</td>\n",
       "      <td>0.684071</td>\n",
       "      <td>0.718757</td>\n",
       "      <td>0.799116</td>\n",
       "      <td>0.816782</td>\n",
       "      <td>0.741847</td>\n",
       "      <td>0.595640</td>\n",
       "      <td>0.585316</td>\n",
       "      <td>0.638125</td>\n",
       "      <td>0.653348</td>\n",
       "      <td>...</td>\n",
       "      <td>2.488688e-02</td>\n",
       "      <td>2.398640e-02</td>\n",
       "      <td>2.381795e-02</td>\n",
       "      <td>2.405162e-02</td>\n",
       "      <td>2.364923e-02</td>\n",
       "      <td>2.463325e-02</td>\n",
       "      <td>2.332164e-02</td>\n",
       "      <td>2.398399e-02</td>\n",
       "      <td>2.471325e-02</td>\n",
       "      <td>angry</td>\n",
       "    </tr>\n",
       "  </tbody>\n",
       "</table>\n",
       "<p>5 rows × 163 columns</p>\n",
       "</div>"
      ],
      "text/plain": [
       "          0         1         2         3         4         5         6  \\\n",
       "0  0.110802  0.490795  0.505013  0.469710  0.561363  0.636531  0.563674   \n",
       "1  0.296992  0.662722  0.677393  0.686170  0.753687  0.803746  0.718685   \n",
       "2  0.120331  0.479905  0.506866  0.450984  0.512692  0.611210  0.601978   \n",
       "3  0.051547  0.551136  0.600135  0.714214  0.736494  0.618028  0.464627   \n",
       "4  0.216556  0.684071  0.718757  0.799116  0.816782  0.741847  0.595640   \n",
       "\n",
       "          7         8         9  ...           153           154  \\\n",
       "0  0.523280  0.558596  0.708839  ...  2.711551e-07  2.506912e-07   \n",
       "1  0.617828  0.649817  0.754733  ...  6.520792e-02  6.238075e-02   \n",
       "2  0.522084  0.528140  0.633301  ...  2.646588e-07  2.364683e-07   \n",
       "3  0.518613  0.602296  0.640959  ...  2.636145e-06  2.447441e-06   \n",
       "4  0.585316  0.638125  0.653348  ...  2.488688e-02  2.398640e-02   \n",
       "\n",
       "            155           156           157           158           159  \\\n",
       "0  2.352728e-07  2.230817e-07  2.134433e-07  2.060598e-07  2.004179e-07   \n",
       "1  6.510437e-02  6.627490e-02  6.685612e-02  6.659891e-02  6.144643e-02   \n",
       "2  2.173610e-07  2.030144e-07  1.919180e-07  1.830629e-07  1.614937e-07   \n",
       "3  2.304417e-06  2.190688e-06  2.100426e-06  2.031119e-06  1.978037e-06   \n",
       "4  2.381795e-02  2.405162e-02  2.364923e-02  2.463325e-02  2.332164e-02   \n",
       "\n",
       "            160           161  labels  \n",
       "0  1.965473e-07  1.941202e-07   angry  \n",
       "1  6.231309e-02  6.651492e-02   angry  \n",
       "2  1.041743e-07  5.117198e-08   angry  \n",
       "3  1.941582e-06  1.918666e-06   angry  \n",
       "4  2.398399e-02  2.471325e-02   angry  \n",
       "\n",
       "[5 rows x 163 columns]"
      ]
     },
     "execution_count": 13,
     "metadata": {},
     "output_type": "execute_result"
    }
   ],
   "source": [
    "Features = pd.DataFrame(X)\n",
    "Features['labels'] = Y\n",
    "Features.to_csv('features.csv', index=False)\n",
    "Features.head()"
   ]
  },
  {
   "cell_type": "code",
   "execution_count": 14,
   "id": "2d7d87c2",
   "metadata": {
    "execution": {
     "iopub.execute_input": "2022-03-24T11:02:03.180211Z",
     "iopub.status.busy": "2022-03-24T11:02:03.179432Z",
     "iopub.status.idle": "2022-03-24T11:02:03.181974Z",
     "shell.execute_reply": "2022-03-24T11:02:03.181529Z"
    },
    "papermill": {
     "duration": 2.052405,
     "end_time": "2022-03-24T11:02:03.182094",
     "exception": false,
     "start_time": "2022-03-24T11:02:01.129689",
     "status": "completed"
    },
    "tags": []
   },
   "outputs": [],
   "source": [
    "X = Features.iloc[: ,:-1].values\n",
    "Y = Features['labels'].values"
   ]
  },
  {
   "cell_type": "code",
   "execution_count": 15,
   "id": "5d68dee2",
   "metadata": {
    "execution": {
     "iopub.execute_input": "2022-03-24T11:02:07.486811Z",
     "iopub.status.busy": "2022-03-24T11:02:07.485975Z",
     "iopub.status.idle": "2022-03-24T11:02:07.489590Z",
     "shell.execute_reply": "2022-03-24T11:02:07.489112Z"
    },
    "papermill": {
     "duration": 2.038434,
     "end_time": "2022-03-24T11:02:07.489721",
     "exception": false,
     "start_time": "2022-03-24T11:02:05.451287",
     "status": "completed"
    },
    "tags": []
   },
   "outputs": [],
   "source": [
    "# As this is a multiclass classification problem onehotencoding our Y.\n",
    "encoder = OneHotEncoder()\n",
    "Y = encoder.fit_transform(np.array(Y).reshape(-1,1)).toarray()"
   ]
  },
  {
   "cell_type": "code",
   "execution_count": 16,
   "id": "4893ef37",
   "metadata": {
    "execution": {
     "iopub.execute_input": "2022-03-24T11:02:11.514821Z",
     "iopub.status.busy": "2022-03-24T11:02:11.513943Z",
     "iopub.status.idle": "2022-03-24T11:02:11.558481Z",
     "shell.execute_reply": "2022-03-24T11:02:11.558933Z"
    },
    "papermill": {
     "duration": 2.063135,
     "end_time": "2022-03-24T11:02:11.559087",
     "exception": false,
     "start_time": "2022-03-24T11:02:09.495952",
     "status": "completed"
    },
    "tags": []
   },
   "outputs": [
    {
     "data": {
      "text/plain": [
       "((14674, 162), (14674, 6), (4892, 162), (4892, 6))"
      ]
     },
     "execution_count": 16,
     "metadata": {},
     "output_type": "execute_result"
    }
   ],
   "source": [
    "# splitting data\n",
    "x_train, x_test, y_train, y_test = train_test_split(X, Y, random_state=0, shuffle=True)\n",
    "x_train.shape, y_train.shape, x_test.shape, y_test.shape"
   ]
  },
  {
   "cell_type": "code",
   "execution_count": 17,
   "id": "b3b52923",
   "metadata": {
    "execution": {
     "iopub.execute_input": "2022-03-24T11:02:15.734364Z",
     "iopub.status.busy": "2022-03-24T11:02:15.733381Z",
     "iopub.status.idle": "2022-03-24T11:02:15.787809Z",
     "shell.execute_reply": "2022-03-24T11:02:15.789181Z"
    },
    "papermill": {
     "duration": 2.174275,
     "end_time": "2022-03-24T11:02:15.789579",
     "exception": false,
     "start_time": "2022-03-24T11:02:13.615304",
     "status": "completed"
    },
    "tags": []
   },
   "outputs": [
    {
     "data": {
      "text/plain": [
       "((14674, 162), (14674, 6), (4892, 162), (4892, 6))"
      ]
     },
     "execution_count": 17,
     "metadata": {},
     "output_type": "execute_result"
    }
   ],
   "source": [
    "# scaling our data with sklearn's Standard scaler\n",
    "scaler = StandardScaler()\n",
    "x_train = scaler.fit_transform(x_train)\n",
    "x_test = scaler.transform(x_test)\n",
    "x_train.shape, y_train.shape, x_test.shape, y_test.shape"
   ]
  },
  {
   "cell_type": "code",
   "execution_count": 18,
   "id": "ceadb206",
   "metadata": {
    "execution": {
     "iopub.execute_input": "2022-03-24T11:02:20.248466Z",
     "iopub.status.busy": "2022-03-24T11:02:20.247652Z",
     "iopub.status.idle": "2022-03-24T11:02:20.251480Z",
     "shell.execute_reply": "2022-03-24T11:02:20.251025Z"
    },
    "papermill": {
     "duration": 2.053391,
     "end_time": "2022-03-24T11:02:20.251588",
     "exception": false,
     "start_time": "2022-03-24T11:02:18.198197",
     "status": "completed"
    },
    "tags": []
   },
   "outputs": [
    {
     "data": {
      "text/plain": [
       "((14674, 162, 1), (14674, 6), (4892, 162, 1), (4892, 6))"
      ]
     },
     "execution_count": 18,
     "metadata": {},
     "output_type": "execute_result"
    }
   ],
   "source": [
    "# making our data compatible to model.\n",
    "x_train = np.expand_dims(x_train, axis=2)\n",
    "x_test = np.expand_dims(x_test, axis=2)\n",
    "x_train.shape, y_train.shape, x_test.shape, y_test.shape"
   ]
  },
  {
   "cell_type": "code",
   "execution_count": 19,
   "id": "f61acf7f",
   "metadata": {
    "execution": {
     "iopub.execute_input": "2022-03-24T11:02:24.790889Z",
     "iopub.status.busy": "2022-03-24T11:02:24.790326Z",
     "iopub.status.idle": "2022-03-24T11:02:27.329537Z",
     "shell.execute_reply": "2022-03-24T11:02:27.329119Z"
    },
    "papermill": {
     "duration": 5.070921,
     "end_time": "2022-03-24T11:02:27.329658",
     "exception": false,
     "start_time": "2022-03-24T11:02:22.258737",
     "status": "completed"
    },
    "tags": []
   },
   "outputs": [
    {
     "name": "stderr",
     "output_type": "stream",
     "text": [
      "2022-03-24 11:02:24.853126: I tensorflow/stream_executor/cuda/cuda_gpu_executor.cc:937] successful NUMA node read from SysFS had negative value (-1), but there must be at least one NUMA node, so returning NUMA node zero\n",
      "2022-03-24 11:02:24.936686: I tensorflow/stream_executor/cuda/cuda_gpu_executor.cc:937] successful NUMA node read from SysFS had negative value (-1), but there must be at least one NUMA node, so returning NUMA node zero\n",
      "2022-03-24 11:02:24.937387: I tensorflow/stream_executor/cuda/cuda_gpu_executor.cc:937] successful NUMA node read from SysFS had negative value (-1), but there must be at least one NUMA node, so returning NUMA node zero\n",
      "2022-03-24 11:02:24.938629: I tensorflow/core/platform/cpu_feature_guard.cc:142] This TensorFlow binary is optimized with oneAPI Deep Neural Network Library (oneDNN) to use the following CPU instructions in performance-critical operations:  AVX2 AVX512F FMA\n",
      "To enable them in other operations, rebuild TensorFlow with the appropriate compiler flags.\n",
      "2022-03-24 11:02:24.939842: I tensorflow/stream_executor/cuda/cuda_gpu_executor.cc:937] successful NUMA node read from SysFS had negative value (-1), but there must be at least one NUMA node, so returning NUMA node zero\n",
      "2022-03-24 11:02:24.940498: I tensorflow/stream_executor/cuda/cuda_gpu_executor.cc:937] successful NUMA node read from SysFS had negative value (-1), but there must be at least one NUMA node, so returning NUMA node zero\n",
      "2022-03-24 11:02:24.941121: I tensorflow/stream_executor/cuda/cuda_gpu_executor.cc:937] successful NUMA node read from SysFS had negative value (-1), but there must be at least one NUMA node, so returning NUMA node zero\n",
      "2022-03-24 11:02:26.797201: I tensorflow/stream_executor/cuda/cuda_gpu_executor.cc:937] successful NUMA node read from SysFS had negative value (-1), but there must be at least one NUMA node, so returning NUMA node zero\n",
      "2022-03-24 11:02:26.798523: I tensorflow/stream_executor/cuda/cuda_gpu_executor.cc:937] successful NUMA node read from SysFS had negative value (-1), but there must be at least one NUMA node, so returning NUMA node zero\n",
      "2022-03-24 11:02:26.799863: I tensorflow/stream_executor/cuda/cuda_gpu_executor.cc:937] successful NUMA node read from SysFS had negative value (-1), but there must be at least one NUMA node, so returning NUMA node zero\n",
      "2022-03-24 11:02:26.800936: I tensorflow/core/common_runtime/gpu/gpu_device.cc:1510] Created device /job:localhost/replica:0/task:0/device:GPU:0 with 15403 MB memory:  -> device: 0, name: Tesla P100-PCIE-16GB, pci bus id: 0000:00:04.0, compute capability: 6.0\n"
     ]
    },
    {
     "name": "stdout",
     "output_type": "stream",
     "text": [
      "Model: \"sequential\"\n",
      "_________________________________________________________________\n",
      "Layer (type)                 Output Shape              Param #   \n",
      "=================================================================\n",
      "conv1d (Conv1D)              (None, 162, 256)          1536      \n",
      "_________________________________________________________________\n",
      "max_pooling1d (MaxPooling1D) (None, 81, 256)           0         \n",
      "_________________________________________________________________\n",
      "conv1d_1 (Conv1D)            (None, 81, 256)           327936    \n",
      "_________________________________________________________________\n",
      "max_pooling1d_1 (MaxPooling1 (None, 41, 256)           0         \n",
      "_________________________________________________________________\n",
      "conv1d_2 (Conv1D)            (None, 41, 128)           163968    \n",
      "_________________________________________________________________\n",
      "max_pooling1d_2 (MaxPooling1 (None, 21, 128)           0         \n",
      "_________________________________________________________________\n",
      "dropout (Dropout)            (None, 21, 128)           0         \n",
      "_________________________________________________________________\n",
      "conv1d_3 (Conv1D)            (None, 21, 64)            41024     \n",
      "_________________________________________________________________\n",
      "max_pooling1d_3 (MaxPooling1 (None, 11, 64)            0         \n",
      "_________________________________________________________________\n",
      "flatten (Flatten)            (None, 704)               0         \n",
      "_________________________________________________________________\n",
      "dense (Dense)                (None, 32)                22560     \n",
      "_________________________________________________________________\n",
      "dropout_1 (Dropout)          (None, 32)                0         \n",
      "_________________________________________________________________\n",
      "dense_1 (Dense)              (None, 6)                 198       \n",
      "=================================================================\n",
      "Total params: 557,222\n",
      "Trainable params: 557,222\n",
      "Non-trainable params: 0\n",
      "_________________________________________________________________\n"
     ]
    }
   ],
   "source": [
    "model=Sequential()\n",
    "model.add(Conv1D(256, kernel_size=5, strides=1, padding='same', activation='relu', input_shape=(x_train.shape[1], 1)))\n",
    "model.add(MaxPooling1D(pool_size=5, strides = 2, padding = 'same'))\n",
    "\n",
    "model.add(Conv1D(256, kernel_size=5, strides=1, padding='same', activation='relu'))\n",
    "model.add(MaxPooling1D(pool_size=5, strides = 2, padding = 'same'))\n",
    "\n",
    "model.add(Conv1D(128, kernel_size=5, strides=1, padding='same', activation='relu'))\n",
    "model.add(MaxPooling1D(pool_size=5, strides = 2, padding = 'same'))\n",
    "model.add(Dropout(0.2))\n",
    "\n",
    "model.add(Conv1D(64, kernel_size=5, strides=1, padding='same', activation='relu'))\n",
    "model.add(MaxPooling1D(pool_size=5, strides = 2, padding = 'same'))\n",
    "\n",
    "model.add(Flatten())\n",
    "model.add(Dense(units=32, activation='relu'))\n",
    "model.add(Dropout(0.3))\n",
    "\n",
    "model.add(Dense(units=6, activation='softmax'))\n",
    "model.compile(optimizer = 'adam' , loss = 'categorical_crossentropy' , metrics = ['accuracy'])\n",
    "\n",
    "model.summary()"
   ]
  },
  {
   "cell_type": "code",
   "execution_count": 20,
   "id": "11254d13",
   "metadata": {
    "execution": {
     "iopub.execute_input": "2022-03-24T11:02:31.403664Z",
     "iopub.status.busy": "2022-03-24T11:02:31.402867Z",
     "iopub.status.idle": "2022-03-24T11:04:54.037356Z",
     "shell.execute_reply": "2022-03-24T11:04:54.036635Z"
    },
    "papermill": {
     "duration": 144.674926,
     "end_time": "2022-03-24T11:04:54.037500",
     "exception": false,
     "start_time": "2022-03-24T11:02:29.362574",
     "status": "completed"
    },
    "tags": []
   },
   "outputs": [
    {
     "name": "stderr",
     "output_type": "stream",
     "text": [
      "2022-03-24 11:02:31.485023: I tensorflow/compiler/mlir/mlir_graph_optimization_pass.cc:185] None of the MLIR Optimization Passes are enabled (registered 2)\n"
     ]
    },
    {
     "name": "stdout",
     "output_type": "stream",
     "text": [
      "Epoch 1/50\n"
     ]
    },
    {
     "name": "stderr",
     "output_type": "stream",
     "text": [
      "2022-03-24 11:02:32.884223: I tensorflow/stream_executor/cuda/cuda_dnn.cc:369] Loaded cuDNN version 8005\n"
     ]
    },
    {
     "name": "stdout",
     "output_type": "stream",
     "text": [
      "230/230 [==============================] - 9s 9ms/step - loss: 1.6273 - accuracy: 0.3056 - val_loss: 1.5238 - val_accuracy: 0.3518\n",
      "Epoch 2/50\n",
      "230/230 [==============================] - 2s 8ms/step - loss: 1.5309 - accuracy: 0.3561 - val_loss: 1.4898 - val_accuracy: 0.3622\n",
      "Epoch 3/50\n",
      "230/230 [==============================] - 2s 8ms/step - loss: 1.4950 - accuracy: 0.3769 - val_loss: 1.4918 - val_accuracy: 0.3876\n",
      "Epoch 4/50\n",
      "230/230 [==============================] - 2s 8ms/step - loss: 1.4666 - accuracy: 0.3895 - val_loss: 1.4216 - val_accuracy: 0.4203\n",
      "Epoch 5/50\n",
      "230/230 [==============================] - 2s 8ms/step - loss: 1.4475 - accuracy: 0.4047 - val_loss: 1.4099 - val_accuracy: 0.4215\n",
      "Epoch 6/50\n",
      "230/230 [==============================] - 2s 8ms/step - loss: 1.4259 - accuracy: 0.4126 - val_loss: 1.3917 - val_accuracy: 0.4272\n",
      "Epoch 7/50\n",
      "230/230 [==============================] - 2s 8ms/step - loss: 1.4021 - accuracy: 0.4278 - val_loss: 1.3822 - val_accuracy: 0.4399\n",
      "Epoch 8/50\n",
      "230/230 [==============================] - 2s 8ms/step - loss: 1.3914 - accuracy: 0.4306 - val_loss: 1.3672 - val_accuracy: 0.4424\n",
      "Epoch 9/50\n",
      "230/230 [==============================] - 2s 8ms/step - loss: 1.3664 - accuracy: 0.4464 - val_loss: 1.3468 - val_accuracy: 0.4532\n",
      "Epoch 10/50\n",
      "230/230 [==============================] - 2s 9ms/step - loss: 1.3529 - accuracy: 0.4509 - val_loss: 1.3555 - val_accuracy: 0.4513\n",
      "Epoch 11/50\n",
      "230/230 [==============================] - 2s 8ms/step - loss: 1.3548 - accuracy: 0.4477 - val_loss: 1.3455 - val_accuracy: 0.4518\n",
      "Epoch 12/50\n",
      "230/230 [==============================] - 2s 8ms/step - loss: 1.3295 - accuracy: 0.4581 - val_loss: 1.3389 - val_accuracy: 0.4503\n",
      "Epoch 13/50\n",
      "230/230 [==============================] - 2s 8ms/step - loss: 1.3224 - accuracy: 0.4695 - val_loss: 1.3380 - val_accuracy: 0.4567\n",
      "Epoch 14/50\n",
      "230/230 [==============================] - 2s 9ms/step - loss: 1.3006 - accuracy: 0.4720 - val_loss: 1.3187 - val_accuracy: 0.4759\n",
      "Epoch 15/50\n",
      "230/230 [==============================] - 2s 8ms/step - loss: 1.2852 - accuracy: 0.4806 - val_loss: 1.3124 - val_accuracy: 0.4679\n",
      "Epoch 16/50\n",
      "230/230 [==============================] - 2s 8ms/step - loss: 1.2740 - accuracy: 0.4883 - val_loss: 1.3153 - val_accuracy: 0.4636\n",
      "Epoch 17/50\n",
      "230/230 [==============================] - 2s 8ms/step - loss: 1.2641 - accuracy: 0.4900 - val_loss: 1.3050 - val_accuracy: 0.4753\n",
      "Epoch 18/50\n",
      "230/230 [==============================] - 2s 8ms/step - loss: 1.2451 - accuracy: 0.4972 - val_loss: 1.3044 - val_accuracy: 0.4843\n",
      "Epoch 19/50\n",
      "230/230 [==============================] - 2s 8ms/step - loss: 1.2320 - accuracy: 0.5069 - val_loss: 1.3003 - val_accuracy: 0.4836\n",
      "Epoch 20/50\n",
      "230/230 [==============================] - 2s 8ms/step - loss: 1.2116 - accuracy: 0.5142 - val_loss: 1.2911 - val_accuracy: 0.4881\n",
      "Epoch 21/50\n",
      "230/230 [==============================] - 2s 8ms/step - loss: 1.1872 - accuracy: 0.5262 - val_loss: 1.2994 - val_accuracy: 0.4757\n",
      "Epoch 22/50\n",
      "230/230 [==============================] - 2s 8ms/step - loss: 1.1800 - accuracy: 0.5296 - val_loss: 1.3126 - val_accuracy: 0.4873\n",
      "Epoch 23/50\n",
      "230/230 [==============================] - 2s 8ms/step - loss: 1.1764 - accuracy: 0.5229 - val_loss: 1.3008 - val_accuracy: 0.4747\n",
      "Epoch 24/50\n",
      "230/230 [==============================] - 2s 8ms/step - loss: 1.1692 - accuracy: 0.5305 - val_loss: 1.3320 - val_accuracy: 0.4800\n",
      "Epoch 25/50\n",
      "230/230 [==============================] - 2s 8ms/step - loss: 1.1436 - accuracy: 0.5452 - val_loss: 1.2943 - val_accuracy: 0.4922\n",
      "Epoch 26/50\n",
      "230/230 [==============================] - 2s 8ms/step - loss: 1.1312 - accuracy: 0.5459 - val_loss: 1.2944 - val_accuracy: 0.4941\n",
      "Epoch 27/50\n",
      "230/230 [==============================] - 2s 8ms/step - loss: 1.1205 - accuracy: 0.5518 - val_loss: 1.3069 - val_accuracy: 0.4802\n",
      "Epoch 28/50\n",
      "230/230 [==============================] - 2s 9ms/step - loss: 1.1090 - accuracy: 0.5609 - val_loss: 1.2925 - val_accuracy: 0.4978\n",
      "Epoch 29/50\n",
      "230/230 [==============================] - 2s 8ms/step - loss: 1.0927 - accuracy: 0.5672 - val_loss: 1.3108 - val_accuracy: 0.4863\n",
      "Epoch 30/50\n",
      "230/230 [==============================] - 2s 8ms/step - loss: 1.0861 - accuracy: 0.5665 - val_loss: 1.3114 - val_accuracy: 0.4910\n",
      "Epoch 31/50\n",
      "230/230 [==============================] - 2s 8ms/step - loss: 1.0761 - accuracy: 0.5705 - val_loss: 1.2996 - val_accuracy: 0.4906\n",
      "Epoch 32/50\n",
      "230/230 [==============================] - 2s 9ms/step - loss: 1.0606 - accuracy: 0.5721 - val_loss: 1.2963 - val_accuracy: 0.4961\n",
      "Epoch 33/50\n",
      "230/230 [==============================] - 2s 9ms/step - loss: 1.0504 - accuracy: 0.5811 - val_loss: 1.2883 - val_accuracy: 0.5008\n",
      "Epoch 34/50\n",
      "230/230 [==============================] - 2s 8ms/step - loss: 1.0274 - accuracy: 0.5939 - val_loss: 1.3259 - val_accuracy: 0.4908\n",
      "Epoch 35/50\n",
      "230/230 [==============================] - 2s 8ms/step - loss: 1.0152 - accuracy: 0.5951 - val_loss: 1.3161 - val_accuracy: 0.5010\n",
      "Epoch 36/50\n",
      "230/230 [==============================] - 2s 8ms/step - loss: 1.0132 - accuracy: 0.5968 - val_loss: 1.3400 - val_accuracy: 0.4941\n",
      "Epoch 37/50\n",
      "230/230 [==============================] - 2s 8ms/step - loss: 1.0053 - accuracy: 0.6043 - val_loss: 1.3217 - val_accuracy: 0.5035\n",
      "Epoch 38/50\n",
      "230/230 [==============================] - 2s 8ms/step - loss: 0.9847 - accuracy: 0.6071 - val_loss: 1.3567 - val_accuracy: 0.4912\n",
      "Epoch 39/50\n",
      "230/230 [==============================] - 2s 8ms/step - loss: 0.9721 - accuracy: 0.6096 - val_loss: 1.3499 - val_accuracy: 0.4933\n",
      "Epoch 40/50\n",
      "230/230 [==============================] - 2s 8ms/step - loss: 0.9630 - accuracy: 0.6208 - val_loss: 1.3444 - val_accuracy: 0.4994\n",
      "Epoch 41/50\n",
      "230/230 [==============================] - 2s 8ms/step - loss: 0.9581 - accuracy: 0.6242 - val_loss: 1.3649 - val_accuracy: 0.4969\n",
      "Epoch 42/50\n",
      "230/230 [==============================] - 2s 8ms/step - loss: 0.9389 - accuracy: 0.6288 - val_loss: 1.3747 - val_accuracy: 0.5000\n",
      "Epoch 43/50\n",
      "230/230 [==============================] - 2s 8ms/step - loss: 0.9327 - accuracy: 0.6319 - val_loss: 1.3576 - val_accuracy: 0.4955\n",
      "Epoch 44/50\n",
      "230/230 [==============================] - 2s 8ms/step - loss: 0.9223 - accuracy: 0.6374 - val_loss: 1.3816 - val_accuracy: 0.4869\n",
      "Epoch 45/50\n",
      "230/230 [==============================] - 2s 8ms/step - loss: 0.9064 - accuracy: 0.6394 - val_loss: 1.3885 - val_accuracy: 0.5033\n",
      "Epoch 46/50\n",
      "230/230 [==============================] - 2s 9ms/step - loss: 0.9003 - accuracy: 0.6486 - val_loss: 1.4079 - val_accuracy: 0.5014\n",
      "Epoch 47/50\n",
      "230/230 [==============================] - 2s 8ms/step - loss: 0.8846 - accuracy: 0.6560 - val_loss: 1.4056 - val_accuracy: 0.4998\n",
      "Epoch 48/50\n",
      "230/230 [==============================] - 2s 8ms/step - loss: 0.8963 - accuracy: 0.6491 - val_loss: 1.3880 - val_accuracy: 0.4994\n",
      "Epoch 49/50\n",
      "230/230 [==============================] - 2s 8ms/step - loss: 0.8743 - accuracy: 0.6617 - val_loss: 1.4290 - val_accuracy: 0.5016\n",
      "Epoch 50/50\n",
      "230/230 [==============================] - 2s 8ms/step - loss: 0.8676 - accuracy: 0.6615 - val_loss: 1.4209 - val_accuracy: 0.4941\n"
     ]
    }
   ],
   "source": [
    "rlrp = ReduceLROnPlateau(monitor='loss', factor=0.4, verbose=0, patience=2, min_lr=0.0000001)\n",
    "history=model.fit(x_train, y_train, batch_size=64, epochs=50, validation_data=(x_test, y_test), callbacks=[rlrp])"
   ]
  },
  {
   "cell_type": "code",
   "execution_count": 21,
   "id": "8988f62a",
   "metadata": {
    "execution": {
     "iopub.execute_input": "2022-03-24T11:04:59.083534Z",
     "iopub.status.busy": "2022-03-24T11:04:59.082552Z",
     "iopub.status.idle": "2022-03-24T11:05:00.279134Z",
     "shell.execute_reply": "2022-03-24T11:05:00.279540Z"
    },
    "papermill": {
     "duration": 3.69564,
     "end_time": "2022-03-24T11:05:00.279683",
     "exception": false,
     "start_time": "2022-03-24T11:04:56.584043",
     "status": "completed"
    },
    "tags": []
   },
   "outputs": [
    {
     "name": "stdout",
     "output_type": "stream",
     "text": [
      "153/153 [==============================] - 0s 3ms/step - loss: 1.4209 - accuracy: 0.4941\n",
      "Accuracy of our model on test data :  49.407196044921875 %\n"
     ]
    },
    {
     "data": {
      "image/png": "[encoded data removed]",
      "text/plain": [
       "<Figure size 1440x432 with 2 Axes>"
      ]
     },
     "metadata": {
      "needs_background": "light"
     },
     "output_type": "display_data"
    }
   ],
   "source": [
    "print(\"Accuracy of our model on test data : \" , model.evaluate(x_test,y_test)[1]*100 , \"%\")\n",
    "\n",
    "epochs = [i for i in range(50)]\n",
    "fig , ax = plt.subplots(1,2)\n",
    "train_acc = history.history['accuracy']\n",
    "train_loss = history.history['loss']\n",
    "test_acc = history.history['val_accuracy']\n",
    "test_loss = history.history['val_loss']\n",
    "\n",
    "fig.set_size_inches(20,6)\n",
    "ax[0].plot(epochs , train_loss , label = 'Training Loss')\n",
    "ax[0].plot(epochs , test_loss , label = 'Testing Loss')\n",
    "ax[0].set_title('Training & Testing Loss')\n",
    "ax[0].legend()\n",
    "ax[0].set_xlabel(\"Epochs\")\n",
    "\n",
    "ax[1].plot(epochs , train_acc , label = 'Training Accuracy')\n",
    "ax[1].plot(epochs , test_acc , label = 'Testing Accuracy')\n",
    "ax[1].set_title('Training & Testing Accuracy')\n",
    "ax[1].legend()\n",
    "ax[1].set_xlabel(\"Epochs\")\n",
    "plt.show()"
   ]
  },
  {
   "cell_type": "code",
   "execution_count": 22,
   "id": "902df58d",
   "metadata": {
    "execution": {
     "iopub.execute_input": "2022-03-24T11:05:05.590115Z",
     "iopub.status.busy": "2022-03-24T11:05:05.589209Z",
     "iopub.status.idle": "2022-03-24T11:05:05.951950Z",
     "shell.execute_reply": "2022-03-24T11:05:05.952381Z"
    },
    "papermill": {
     "duration": 2.937572,
     "end_time": "2022-03-24T11:05:05.952542",
     "exception": false,
     "start_time": "2022-03-24T11:05:03.014970",
     "status": "completed"
    },
    "tags": []
   },
   "outputs": [],
   "source": [
    "# predicting on test data.\n",
    "pred_test = model.predict(x_test)\n",
    "y_pred = encoder.inverse_transform(pred_test)\n",
    "\n",
    "y_test = encoder.inverse_transform(y_test)"
   ]
  },
  {
   "cell_type": "code",
   "execution_count": 23,
   "id": "2179a71e",
   "metadata": {
    "execution": {
     "iopub.execute_input": "2022-03-24T11:05:11.487149Z",
     "iopub.status.busy": "2022-03-24T11:05:11.486406Z",
     "iopub.status.idle": "2022-03-24T11:05:11.491053Z",
     "shell.execute_reply": "2022-03-24T11:05:11.490588Z"
    },
    "papermill": {
     "duration": 2.668858,
     "end_time": "2022-03-24T11:05:11.491170",
     "exception": false,
     "start_time": "2022-03-24T11:05:08.822312",
     "status": "completed"
    },
    "tags": []
   },
   "outputs": [
    {
     "data": {
      "text/html": [
       "<div>\n",
       "<style scoped>\n",
       "    .dataframe tbody tr th:only-of-type {\n",
       "        vertical-align: middle;\n",
       "    }\n",
       "\n",
       "    .dataframe tbody tr th {\n",
       "        vertical-align: top;\n",
       "    }\n",
       "\n",
       "    .dataframe thead th {\n",
       "        text-align: right;\n",
       "    }\n",
       "</style>\n",
       "<table border=\"1\" class=\"dataframe\">\n",
       "  <thead>\n",
       "    <tr style=\"text-align: right;\">\n",
       "      <th></th>\n",
       "      <th>Predicted Labels</th>\n",
       "      <th>Actual Labels</th>\n",
       "    </tr>\n",
       "  </thead>\n",
       "  <tbody>\n",
       "    <tr>\n",
       "      <th>0</th>\n",
       "      <td>disgust</td>\n",
       "      <td>disgust</td>\n",
       "    </tr>\n",
       "    <tr>\n",
       "      <th>1</th>\n",
       "      <td>neutral</td>\n",
       "      <td>happy</td>\n",
       "    </tr>\n",
       "    <tr>\n",
       "      <th>2</th>\n",
       "      <td>neutral</td>\n",
       "      <td>sad</td>\n",
       "    </tr>\n",
       "    <tr>\n",
       "      <th>3</th>\n",
       "      <td>angry</td>\n",
       "      <td>happy</td>\n",
       "    </tr>\n",
       "    <tr>\n",
       "      <th>4</th>\n",
       "      <td>angry</td>\n",
       "      <td>angry</td>\n",
       "    </tr>\n",
       "    <tr>\n",
       "      <th>5</th>\n",
       "      <td>angry</td>\n",
       "      <td>angry</td>\n",
       "    </tr>\n",
       "    <tr>\n",
       "      <th>6</th>\n",
       "      <td>sad</td>\n",
       "      <td>sad</td>\n",
       "    </tr>\n",
       "    <tr>\n",
       "      <th>7</th>\n",
       "      <td>sad</td>\n",
       "      <td>disgust</td>\n",
       "    </tr>\n",
       "    <tr>\n",
       "      <th>8</th>\n",
       "      <td>disgust</td>\n",
       "      <td>disgust</td>\n",
       "    </tr>\n",
       "    <tr>\n",
       "      <th>9</th>\n",
       "      <td>sad</td>\n",
       "      <td>neutral</td>\n",
       "    </tr>\n",
       "  </tbody>\n",
       "</table>\n",
       "</div>"
      ],
      "text/plain": [
       "  Predicted Labels Actual Labels\n",
       "0          disgust       disgust\n",
       "1          neutral         happy\n",
       "2          neutral           sad\n",
       "3            angry         happy\n",
       "4            angry         angry\n",
       "5            angry         angry\n",
       "6              sad           sad\n",
       "7              sad       disgust\n",
       "8          disgust       disgust\n",
       "9              sad       neutral"
      ]
     },
     "execution_count": 23,
     "metadata": {},
     "output_type": "execute_result"
    }
   ],
   "source": [
    "df = pd.DataFrame(columns=['Predicted Labels', 'Actual Labels'])\n",
    "df['Predicted Labels'] = y_pred.flatten()\n",
    "df['Actual Labels'] = y_test.flatten()\n",
    "\n",
    "df.head(10)"
   ]
  },
  {
   "cell_type": "code",
   "execution_count": 24,
   "id": "0856b4ca",
   "metadata": {
    "execution": {
     "iopub.execute_input": "2022-03-24T11:05:16.804644Z",
     "iopub.status.busy": "2022-03-24T11:05:16.803844Z",
     "iopub.status.idle": "2022-03-24T11:05:17.145968Z",
     "shell.execute_reply": "2022-03-24T11:05:17.146498Z"
    },
    "papermill": {
     "duration": 2.90884,
     "end_time": "2022-03-24T11:05:17.146663",
     "exception": false,
     "start_time": "2022-03-24T11:05:14.237823",
     "status": "completed"
    },
    "tags": []
   },
   "outputs": [
    {
     "data": {
      "image/png": "[encoded data removed]",
      "text/plain": [
       "<Figure size 864x720 with 2 Axes>"
      ]
     },
     "metadata": {
      "needs_background": "light"
     },
     "output_type": "display_data"
    }
   ],
   "source": [
    "cm = confusion_matrix(y_test, y_pred)\n",
    "plt.figure(figsize = (12, 10))\n",
    "cm = pd.DataFrame(cm , index = [i for i in encoder.categories_] , columns = [i for i in encoder.categories_])\n",
    "sns.heatmap(cm, linecolor='white', cmap='Blues', linewidth=1, annot=True, fmt='')\n",
    "plt.title('Confusion Matrix', size=20)\n",
    "plt.xlabel('Predicted Labels', size=14)\n",
    "plt.ylabel('Actual Labels', size=14)\n",
    "plt.show()"
   ]
  },
  {
   "cell_type": "code",
   "execution_count": 25,
   "id": "c7698b6f",
   "metadata": {
    "execution": {
     "iopub.execute_input": "2022-03-24T11:05:22.245044Z",
     "iopub.status.busy": "2022-03-24T11:05:22.244287Z",
     "iopub.status.idle": "2022-03-24T11:05:22.365736Z",
     "shell.execute_reply": "2022-03-24T11:05:22.366218Z"
    },
    "papermill": {
     "duration": 2.670022,
     "end_time": "2022-03-24T11:05:22.366388",
     "exception": false,
     "start_time": "2022-03-24T11:05:19.696366",
     "status": "completed"
    },
    "tags": []
   },
   "outputs": [
    {
     "name": "stdout",
     "output_type": "stream",
     "text": [
      "              precision    recall  f1-score   support\n",
      "\n",
      "       angry       0.67      0.65      0.66       800\n",
      "     disgust       0.41      0.27      0.32       785\n",
      "        fear       0.50      0.36      0.42       825\n",
      "       happy       0.44      0.50      0.47       843\n",
      "     neutral       0.50      0.48      0.49       823\n",
      "         sad       0.45      0.70      0.55       816\n",
      "\n",
      "    accuracy                           0.49      4892\n",
      "   macro avg       0.50      0.49      0.49      4892\n",
      "weighted avg       0.50      0.49      0.49      4892\n",
      "\n"
     ]
    }
   ],
   "source": [
    "print(classification_report(y_test, y_pred))"
   ]
  }
 ],
 "metadata": {
  "kernelspec": {
   "display_name": "Python 3",
   "language": "python",
   "name": "python3"
  },
  "language_info": {
   "codemirror_mode": {
    "name": "ipython",
    "version": 3
   },
   "file_extension": ".py",
   "mimetype": "text/x-python",
   "name": "python",
   "nbconvert_exporter": "python",
   "pygments_lexer": "ipython3",
   "version": "3.7.12"
  },
  "papermill": {
   "default_parameters": {},
   "duration": 2479.492243,
   "end_time": "2022-03-24T11:05:28.368198",
   "environment_variables": {},
   "exception": null,
   "input_path": "__notebook__.ipynb",
   "output_path": "__notebook__.ipynb",
   "parameters": {},
   "start_time": "2022-03-24T10:24:08.875955",
   "version": "2.3.3"
  }
 },
 "nbformat": 4,
 "nbformat_minor": 5
}
